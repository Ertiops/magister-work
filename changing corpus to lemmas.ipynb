{
 "cells": [
  {
   "cell_type": "code",
   "execution_count": 1,
   "id": "88c48e7e",
   "metadata": {},
   "outputs": [],
   "source": [
    "import re\n",
    "import pickle\n",
    "import spacy\n",
    "import stopwordsiso\n",
    "nlp = spacy.load('ru_core_news_lg')"
   ]
  },
  {
   "cell_type": "code",
   "execution_count": 2,
   "id": "fd6da31d",
   "metadata": {},
   "outputs": [],
   "source": [
    "custom_stop_words = {'а', 'б', 'в', 'г', 'д', 'е', 'ё', 'ж', 'з', 'и', 'й', 'к', 'л', 'м', 'н', 'о', 'п', 'р', 'с', 'т', 'у', 'ф', 'х', 'ц', 'ч', 'ш', 'щ', 'э', 'ю', 'я', 'рис'}\n",
    "stopwords = stopwordsiso.stopwords(\"ru\")\n",
    "stopwords = stopwords | custom_stop_words"
   ]
  },
  {
   "cell_type": "code",
   "execution_count": 3,
   "id": "db5c2287",
   "metadata": {},
   "outputs": [],
   "source": [
    "with open('phys_corpus.pickle', 'rb') as handle:\n",
    "    corpus = pickle.load(handle)"
   ]
  },
  {
   "cell_type": "code",
   "execution_count": 4,
   "id": "1f4a4fce",
   "metadata": {},
   "outputs": [],
   "source": [
    "def text_preprocessor(corpus):\n",
    "    for key in corpus.keys(): \n",
    "        corpus[key] = re.sub('\\d+', '', corpus[key])\n",
    "        corpus[key] =  re.sub('\\\\t|\\\\n|\\+', '', corpus[key])\n",
    "        corpus[key] =  re.sub('[^ЁёА-я\\s]', '', corpus[key])\n",
    "        corpus[key] =  re.sub('\\s+', ' ', corpus[key])\n",
    "    for key in corpus.keys():   \n",
    "        doc = nlp(corpus[key])\n",
    "        corpus[key] = [i.lemma_ for i in doc if i.lemma_ not in stopwords]\n",
    "    return corpus"
   ]
  },
  {
   "cell_type": "code",
   "execution_count": 5,
   "id": "8cb31b1f",
   "metadata": {},
   "outputs": [],
   "source": [
    "cleaned_corpus = text_preprocessor(corpus)"
   ]
  },
  {
   "cell_type": "code",
   "execution_count": 7,
   "id": "6171ff97",
   "metadata": {},
   "outputs": [],
   "source": [
    "with open('C:/Users/Илья/Desktop/phys_corpus_cleaned', 'wb') as f:\n",
    "    pickle.dump(cleaned_corpus, f)"
   ]
  },
  {
   "cell_type": "code",
   "execution_count": 8,
   "id": "15ed9546",
   "metadata": {},
   "outputs": [],
   "source": [
    "with open('C:/Users/Илья/Desktop/phys_corpus_cleaned', 'rb') as f:\n",
    "    corpus = pickle.load(f)"
   ]
  },
  {
   "cell_type": "code",
   "execution_count": null,
   "id": "b74e6894",
   "metadata": {},
   "outputs": [],
   "source": []
  },
  {
   "cell_type": "code",
   "execution_count": null,
   "id": "39f9a3ed",
   "metadata": {},
   "outputs": [],
   "source": []
  }
 ],
 "metadata": {
  "kernelspec": {
   "display_name": "Python 3 (ipykernel)",
   "language": "python",
   "name": "python3"
  },
  "language_info": {
   "codemirror_mode": {
    "name": "ipython",
    "version": 3
   },
   "file_extension": ".py",
   "mimetype": "text/x-python",
   "name": "python",
   "nbconvert_exporter": "python",
   "pygments_lexer": "ipython3",
   "version": "3.8.8"
  }
 },
 "nbformat": 4,
 "nbformat_minor": 5
}
